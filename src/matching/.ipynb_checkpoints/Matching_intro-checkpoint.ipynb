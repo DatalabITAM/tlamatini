{
 "cells": [
  {
   "cell_type": "markdown",
   "metadata": {},
   "source": [
    "# Matching in python using a dictionary"
   ]
  },
  {
   "cell_type": "markdown",
   "metadata": {},
   "source": [
    "useful resource https://kaijento.github.io/2017/04/09/python-convert-a-text-file-into-a-dict/"
   ]
  },
  {
   "cell_type": "code",
   "execution_count": 24,
   "metadata": {},
   "outputs": [],
   "source": [
    "import json\n",
    "\n",
    "filename_diccionario = '../../Data/Diccionarios/diccionario.txt'\n",
    "\n",
    "diccionario = {}\n",
    "with open(filename_diccionario) as fdict:\n",
    "    for line in fdict:\n",
    "#         print(line.strip().split())\n",
    "        palabra_es, palabra_nah = line.strip().split(' ', 1)\n",
    "        diccionario[palabra_es] = palabra_nah.strip()\n",
    "\n",
    "# print(json.dumps(commands, indent=2, sort_keys=True))"
   ]
  },
  {
   "cell_type": "code",
   "execution_count": 25,
   "metadata": {},
   "outputs": [
    {
     "data": {
      "text/plain": [
       "'amoxtli'"
      ]
     },
     "execution_count": 25,
     "metadata": {},
     "output_type": "execute_result"
    }
   ],
   "source": [
    "diccionario['libro']"
   ]
  },
  {
   "cell_type": "code",
   "execution_count": 46,
   "metadata": {
    "collapsed": true
   },
   "outputs": [],
   "source": [
    "filename_doc_es = '../../Data/CorpusDocumentos/constitucion/constitucion-es.txt'\n",
    "filename_doc_nah = '../../Data/CorpusDocumentos/constitucion/constitucion-nah.txt'\n",
    "\n",
    "enunciados_es = []\n",
    "with open(filename_doc_es) as doc_es:\n",
    "    for line in doc_es:\n",
    "#         print(line.strip().split())\n",
    "        enunciado = line.strip().split('.')\n",
    "        enunciados_es.append(enunciado)\n",
    "# print(json.dumps(commands, indent=2, sort_keys=True))\n",
    "\n",
    "enunciados_nah = []\n",
    "with open(filename_doc_nah) as doc_es:\n",
    "    for line in doc_es:\n",
    "#         print(line.strip().split())\n",
    "        enunciado = line.strip().split('.')\n",
    "        enunciados_nah.append(enunciado)"
   ]
  },
  {
   "cell_type": "code",
   "execution_count": 47,
   "metadata": {},
   "outputs": [
    {
     "data": {
      "text/plain": [
       "[['CONSTITUCIÓN POLÍTICA DE LOS ESTADOS UNIDOS'],\n",
       " ['MEXICANOS'],\n",
       " ['Constitución publicada en el Diario Oficial de la Federación el 5 de febrero de 1917'],\n",
       " [''],\n",
       " ['Última reforma publicada DOF 27-01-2015'],\n",
       " [''],\n",
       " ['\\u200b'],\n",
       " ['El C',\n",
       "  ' Primer Jefe del Ejército Constitucionalista, Encargado del Poder Ejecutivo de la Nación, con esta fecha se ha'],\n",
       " ['servido dirigirme el siguiente decreto:'],\n",
       " ['VENUSTIANO CARRANZA, Primer Jefe del Ejército Constitucionalista, Encargado del Poder Ejecutivo de los']]"
      ]
     },
     "execution_count": 47,
     "metadata": {},
     "output_type": "execute_result"
    }
   ],
   "source": [
    "enunciados_es[:10]"
   ]
  },
  {
   "cell_type": "code",
   "execution_count": 48,
   "metadata": {},
   "outputs": [
    {
     "data": {
      "text/plain": [
       "[['TLANEJNEUILYOTL TLEN SENTIKMASEUALMEJ'],\n",
       " ['Tlanejneuilyotl katli mopatimakak pan mexko amatlamoyauali pan makuili tonali tlen ome metstli, tlen xiuitl'],\n",
       " ['naui tsontli, uan kaxtolpouali uan majtlaktli uan chikome'],\n",
       " [''],\n",
       " ['Moyankuitili ipan nitonali moixpanti DOF 27-05-2015'],\n",
       " [''],\n",
       " ['\\u200b'],\n",
       " ['Tlen achtiui mexkotlanauatijketl, tlen axkayotl chiuali tlalotl, pan ni tonali techmachiltia pan ni amatlamoyauali:'],\n",
       " ['VENUSTIANO CARRANZA, tlen achtiui mexko tlanauatijketl, tlen axkayotl chiuali tlalotl tlen mexkotlali, ni mits'],\n",
       " ['machiltia:']]"
      ]
     },
     "execution_count": 48,
     "metadata": {},
     "output_type": "execute_result"
    }
   ],
   "source": [
    "enunciados_nah[:10]"
   ]
  },
  {
   "cell_type": "code",
   "execution_count": null,
   "metadata": {
    "collapsed": true
   },
   "outputs": [],
   "source": []
  }
 ],
 "metadata": {
  "kernelspec": {
   "display_name": "Python 3",
   "language": "python",
   "name": "python3"
  },
  "language_info": {
   "codemirror_mode": {
    "name": "ipython",
    "version": 3
   },
   "file_extension": ".py",
   "mimetype": "text/x-python",
   "name": "python",
   "nbconvert_exporter": "python",
   "pygments_lexer": "ipython3",
   "version": "3.6.1"
  }
 },
 "nbformat": 4,
 "nbformat_minor": 2
}
