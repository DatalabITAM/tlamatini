{
 "cells": [
  {
   "cell_type": "markdown",
   "metadata": {},
   "source": [
    "# Webscrape example"
   ]
  },
  {
   "cell_type": "code",
   "execution_count": 1,
   "metadata": {
    "collapsed": true
   },
   "outputs": [],
   "source": [
    "import requests\n",
    "import urllib.request\n",
    "import time\n",
    "from bs4 import BeautifulSoup"
   ]
  },
  {
   "cell_type": "markdown",
   "metadata": {},
   "source": [
    "## Set the URL you want to scrape from"
   ]
  },
  {
   "cell_type": "code",
   "execution_count": 2,
   "metadata": {
    "collapsed": true
   },
   "outputs": [],
   "source": [
    "url = 'https://nah.wikipedia.org/wiki/Mexihco'"
   ]
  },
  {
   "cell_type": "markdown",
   "metadata": {},
   "source": [
    "## Connect to the url"
   ]
  },
  {
   "cell_type": "code",
   "execution_count": 3,
   "metadata": {
    "collapsed": true
   },
   "outputs": [],
   "source": [
    "response = requests.get(url)"
   ]
  },
  {
   "cell_type": "code",
   "execution_count": 4,
   "metadata": {},
   "outputs": [
    {
     "data": {
      "text/plain": [
       "<Response [200]>"
      ]
     },
     "execution_count": 4,
     "metadata": {},
     "output_type": "execute_result"
    }
   ],
   "source": [
    "response #200 means it went through"
   ]
  },
  {
   "cell_type": "markdown",
   "metadata": {},
   "source": [
    "## Parse html and save to Beautiful Soup object"
   ]
  },
  {
   "cell_type": "markdown",
   "metadata": {},
   "source": [
    "beatiful soup documentation\n",
    "https://www.crummy.com/software/BeautifulSoup/bs4/doc/"
   ]
  },
  {
   "cell_type": "code",
   "execution_count": 5,
   "metadata": {
    "collapsed": true
   },
   "outputs": [],
   "source": [
    "soup = BeautifulSoup(response.text, \"html.parser\")"
   ]
  },
  {
   "cell_type": "code",
   "execution_count": 6,
   "metadata": {},
   "outputs": [],
   "source": [
    "#soup"
   ]
  },
  {
   "cell_type": "markdown",
   "metadata": {},
   "source": [
    "## To locate all a tags"
   ]
  },
  {
   "cell_type": "code",
   "execution_count": 7,
   "metadata": {},
   "outputs": [],
   "source": [
    "#soup.findAll('a')"
   ]
  },
  {
   "cell_type": "markdown",
   "metadata": {},
   "source": [
    "## we can search over the lint to see links to other wikipedia articles"
   ]
  },
  {
   "cell_type": "code",
   "execution_count": 8,
   "metadata": {},
   "outputs": [
    {
     "data": {
      "text/plain": [
       "[<a class=\"new\" href=\"/w/index.php?title=Huaccaixtlahuaamaixachitlan&amp;action=edit&amp;redlink=1\" title=\"Huaccaixtlahuaamaixachitlan (ahmo oncah tlahcuilolamatl)\">Huaccaixtlahuaamaixachitlan</a>,\n",
       " <a href=\"/wiki/1810\" title=\"1810\">1810</a>,\n",
       " <a href=\"/wiki/6_t%C5%8Dchtli\" title=\"6 tōchtli\">6 tōchtli</a>,\n",
       " <a class=\"new\" href=\"/w/index.php?title=Cemanahuac_in_Nehnemiliztli_Tlatecpanaliztli&amp;action=edit&amp;redlink=1\" title=\"Cemanahuac in Nehnemiliztli Tlatecpanaliztli (ahmo oncah tlahcuilolamatl)\">Cemanahuac in Nehnemiliztli Tlatecpanaliztli</a>,\n",
       " <a class=\"new\" href=\"/w/index.php?title=Latinixachitlan&amp;action=edit&amp;redlink=1\" title=\"Latinixachitlan (ahmo oncah tlahcuilolamatl)\">Latinixachitlan</a>,\n",
       " <a href=\"/wiki/Cemanahuac\" title=\"Cemanahuac\">Cemanahuac</a>,\n",
       " <a href=\"#cite_note-3\">[3]</a>,\n",
       " <a class=\"new\" href=\"/w/index.php?title=UNESCO&amp;action=edit&amp;redlink=1\" title=\"UNESCO (ahmo oncah tlahcuilolamatl)\">UNESCO</a>,\n",
       " <a class=\"new\" href=\"/w/index.php?title=Iiyohcauh_in_Tlacayotl&amp;action=edit&amp;redlink=1\" title=\"Iiyohcauh in Tlacayotl (ahmo oncah tlahcuilolamatl)\">iiyohcauh in Tlacayotl</a>,\n",
       " <a class=\"new\" href=\"/w/index.php?title=T%C5%8Dc%C4%81y%C5%8Dtl_ahyehyecauhqui_ihtic_tlachihualli&amp;action=edit&amp;redlink=1\" title=\"Tōcāyōtl ahyehyecauhqui ihtic tlachihualli (ahmo oncah tlahcuilolamatl)\">tocayotl ahyehyecauhqui ihtic itlachihual</a>]"
      ]
     },
     "execution_count": 8,
     "metadata": {},
     "output_type": "execute_result"
    }
   ],
   "source": [
    "soup.findAll('a')[100:110]"
   ]
  },
  {
   "cell_type": "markdown",
   "metadata": {},
   "source": [
    "## Get all text"
   ]
  },
  {
   "cell_type": "code",
   "execution_count": 9,
   "metadata": {
    "collapsed": true
   },
   "outputs": [],
   "source": [
    "#print(soup.get_text())"
   ]
  },
  {
   "cell_type": "markdown",
   "metadata": {},
   "source": [
    "## Find link to same article but in Spanish"
   ]
  },
  {
   "cell_type": "code",
   "execution_count": 10,
   "metadata": {},
   "outputs": [
    {
     "name": "stdout",
     "output_type": "stream",
     "text": [
      "<a class=\"interlanguage-link-target\" href=\"https://es.wikipedia.org/wiki/M%C3%A9xico\" hreflang=\"es\" lang=\"es\" title=\"México (español)\">Español</a>\n"
     ]
    }
   ],
   "source": [
    "spanish_article = soup.find_all(\"a\", string=\"Español\")[0]\n",
    "print(spanish_article)"
   ]
  },
  {
   "cell_type": "markdown",
   "metadata": {},
   "source": [
    "## Extract the actual link"
   ]
  },
  {
   "cell_type": "code",
   "execution_count": 11,
   "metadata": {},
   "outputs": [
    {
     "data": {
      "text/plain": [
       "'https://es.wikipedia.org/wiki/M%C3%A9xico'"
      ]
     },
     "execution_count": 11,
     "metadata": {},
     "output_type": "execute_result"
    }
   ],
   "source": [
    "link = spanish_article['href']\n",
    "link"
   ]
  },
  {
   "cell_type": "markdown",
   "metadata": {},
   "source": [
    "## Example to download doing a for loop over a tags"
   ]
  },
  {
   "cell_type": "code",
   "execution_count": 12,
   "metadata": {
    "collapsed": true
   },
   "outputs": [],
   "source": [
    "# for i in range(36,len(soup.findAll('a'))+1): #'a' tags are for links\n",
    "#     one_a_tag = soup.findAll('a')[i]\n",
    "#     link = one_a_tag['href']\n",
    "#     download_url = 'http://web.mta.info/developers/'+ link\n",
    "#     urllib.request.urlretrieve(download_url,'./'+link[link.find('/turnstile_')+1:]) \n",
    "#     time.sleep(1)"
   ]
  },
  {
   "cell_type": "code",
   "execution_count": null,
   "metadata": {
    "collapsed": true
   },
   "outputs": [],
   "source": []
  }
 ],
 "metadata": {
  "kernelspec": {
   "display_name": "Python 3",
   "language": "python",
   "name": "python3"
  },
  "language_info": {
   "codemirror_mode": {
    "name": "ipython",
    "version": 3
   },
   "file_extension": ".py",
   "mimetype": "text/x-python",
   "name": "python",
   "nbconvert_exporter": "python",
   "pygments_lexer": "ipython3",
   "version": "3.6.1"
  }
 },
 "nbformat": 4,
 "nbformat_minor": 2
}
