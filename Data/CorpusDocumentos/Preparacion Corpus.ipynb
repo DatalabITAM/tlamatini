{
 "cells": [
  {
   "cell_type": "markdown",
   "metadata": {},
   "source": [
    "# Preparacion de corpus para NMT"
   ]
  },
  {
   "cell_type": "markdown",
   "metadata": {},
   "source": [
    "## Axolotl"
   ]
  },
  {
   "cell_type": "code",
   "execution_count": 19,
   "metadata": {},
   "outputs": [],
   "source": [
    "with open('axolotl/tlamatini-espanol.txt') as e:\n",
    "    ax_esp = e.read().split('\\n')\n",
    "with open('axolotl/tlamatini-nahuatl.txt') as n:\n",
    "    ax_nah = n.read().split('\\n')"
   ]
  },
  {
   "cell_type": "code",
   "execution_count": 20,
   "metadata": {},
   "outputs": [],
   "source": [
    "axolotl = []\n",
    "for i in range(len(ax_esp)):\n",
    "    axolotl.append(ax_esp[i]+'\\t'+ax_nah[i])"
   ]
  },
  {
   "cell_type": "code",
   "execution_count": 85,
   "metadata": {},
   "outputs": [
    {
     "data": {
      "text/plain": [
       "['las llamadas tribus aztecas dejaron su antigua patria aztlán y en seguida pasaron por culiacán la grande\\tin motocayotiah aztecacalpoltin oquimocahuilitoh inhuehuetlaltzin itocayocan aztlan auh niman ic omopanolticoh hueyi colhuacan',\n",
       " 'estos son los nombres de esas tribus  matlatzincas  tecpanecas  chichimecas  malinalcas  cuitlahuacas  xochimilcas  chalcas  huejotzincas\\tizcatqui iniqueon calpoltin intocatzin  matlatzincah  tecpanecah  chichimecah  malinalcah  cuitlahuacah  xochimilcah  chalcah  huexotzincah',\n",
       " 'las tribus eran guiadas por cuatro nobles cuyos nombres eran tezcacóatl cuauhcóatl apanécatl y finalmente chimalma\\tquinyacanayah nahuixtin pipiltin in calpoltin intocatzin catca tezcacoatl cuauhcoatl apanecatl auh zatlatzaccan chimalma',\n",
       " 'tezcacóatl llevaba a cuestas a huitzilopochtli\\ttezcacoatl quimamaya huitzilopochtli',\n",
       " 'salieron de culiacán y vinieron a descansar al pie de un árbol grande y frondoso allí levantaron un altar y comenzaron a tomar sus alimentos pero se dicehuitzilopochtli les ordenó que se separaran dijo\\toquizque hueyi colhuacan ihuan itzintla hueyicuahuitl in cuauhmayo catca mocehuicoh ompa momoztli conquetzacoh noihuan otlacuacoh auh quilmach huitzilopochtli tenahuati ma yehuantin moxexeloah quihto',\n",
       " 'que siete familias se vayan por un lado y que los mexicanos vengan conmigo por otro\\tcecni ma huian chiconcalpoltin ihuan oc cecni ma nehnemican nohuan in mexicah',\n",
       " 'todos estuvieron llorando por un buen rato y en seguida se separaron\\tmochintin huecauhtica chocacticatcah auh niman omoxexeloque',\n",
       " 'los mexicanos pasaron por la población llamada donde lloró el huasteco y llegaron el año 2 casa a coatlicamac conocida tanbién como coatepec\\tmexicah opanocque guextecatlichocayan ihuan oacicoh coatlicamac nozo coatepec ipan ome calli xihuitl',\n",
       " 'el año 2 caña se cumplió en    coatepec la atadura de los años y los mexicanos celebraron allí su primer fuego nuevo desde su salida de aztlán\\tcoatepec omochiuh xiuhtlalpilli ipan ome acatl xihuitl ihuan mexicah oquilhuiquixticoh zanyeno oncan inic ce yancuic intleuh in oyuh oquizque in ihuicpa aztlan',\n",
       " 'residieron en coatepec por yei tecpatl espacio de 27 años y en el año 3 pedernal se establecieron en la venerable tula\\tcempoalchiconxiuhtique coatepec ihuan omotlalicoh tollantzinco ipan ei tecpatl xihuitl']"
      ]
     },
     "execution_count": 85,
     "metadata": {},
     "output_type": "execute_result"
    }
   ],
   "source": [
    "axolotl[:10]"
   ]
  },
  {
   "cell_type": "code",
   "execution_count": 21,
   "metadata": {},
   "outputs": [],
   "source": [
    "with open('axolotl/esp-nah.txt', 'w') as f:\n",
    "    for x in axolotl:\n",
    "        f.write(x+'\\n')"
   ]
  },
  {
   "cell_type": "markdown",
   "metadata": {},
   "source": [
    "## Diccionario"
   ]
  },
  {
   "cell_type": "code",
   "execution_count": 22,
   "metadata": {},
   "outputs": [],
   "source": [
    "with open('../Diccionarios/diccionario.txt') as f:\n",
    "    dic = f.read().replace(' \\n','\\n').replace(' ', '\\t').split('\\n')"
   ]
  },
  {
   "cell_type": "code",
   "execution_count": 23,
   "metadata": {},
   "outputs": [],
   "source": [
    "with open('axolotl/dic.txt', 'w') as f:\n",
    "    for x in dic:\n",
    "        f.write(x+'\\n')"
   ]
  },
  {
   "cell_type": "markdown",
   "metadata": {},
   "source": [
    "## Biblia"
   ]
  },
  {
   "cell_type": "code",
   "execution_count": 24,
   "metadata": {},
   "outputs": [],
   "source": [
    "import os\n",
    "nhw_files = os.listdir('biblia/nhw/')\n",
    "esp_files = os.listdir('biblia/esp/')"
   ]
  },
  {
   "cell_type": "code",
   "execution_count": 25,
   "metadata": {},
   "outputs": [],
   "source": [
    "esp_files.sort()\n",
    "nhw_files.sort()"
   ]
  },
  {
   "cell_type": "code",
   "execution_count": 26,
   "metadata": {},
   "outputs": [],
   "source": [
    "bib_esp=[]\n",
    "bib_nah=[]\n",
    "for esp,nah in zip(esp_files,nhw_files):\n",
    "    with open('biblia/esp/'+esp) as e,  open('biblia/nhw/'+nah) as n:\n",
    "        f_esp=e.read().replace('\\n\\n','\\n').replace('\\t', ' ').replace('  ', ' ').split('\\n')\n",
    "        f_nah=n.read().replace('\\n\\n','\\n').replace('\\t', ' ').replace('  ', ' ').split('\\n')\n",
    "        if len(f_esp)==len(f_nah) and f_esp[0].lower()==f_nah[0].lower() and f_esp[1]==f_nah[1]:\n",
    "            bib_esp+=f_esp[2:]\n",
    "            bib_nah+=f_nah[2:]"
   ]
  },
  {
   "cell_type": "code",
   "execution_count": 27,
   "metadata": {},
   "outputs": [
    {
     "name": "stdout",
     "output_type": "stream",
     "text": [
      "esp: 26183\n",
      "nhw: 26183\n"
     ]
    }
   ],
   "source": [
    "print('esp: {}\\nnhw: {}'.format(len(bib_esp),len(bib_nah)))"
   ]
  },
  {
   "cell_type": "code",
   "execution_count": 28,
   "metadata": {},
   "outputs": [],
   "source": [
    "biblia = []\n",
    "for i in range(len(bib_esp)):\n",
    "    biblia.append(bib_esp[i]+'\\t'+bib_nah[i])"
   ]
  },
  {
   "cell_type": "code",
   "execution_count": 29,
   "metadata": {},
   "outputs": [],
   "source": [
    "with open('biblia/esp-nah.txt', 'w') as f:\n",
    "    for x in biblia:\n",
    "        f.write(x+'\\n')"
   ]
  },
  {
   "cell_type": "markdown",
   "metadata": {},
   "source": [
    "## Juntar Documentos"
   ]
  },
  {
   "cell_type": "code",
   "execution_count": 65,
   "metadata": {},
   "outputs": [],
   "source": [
    "esp = ax_esp+bib_esp\n",
    "nah = ax_nah+bib_nah"
   ]
  },
  {
   "cell_type": "code",
   "execution_count": 66,
   "metadata": {},
   "outputs": [
    {
     "data": {
      "text/plain": [
       "32036"
      ]
     },
     "execution_count": 66,
     "metadata": {},
     "output_type": "execute_result"
    }
   ],
   "source": [
    "len(esp)"
   ]
  },
  {
   "cell_type": "code",
   "execution_count": 67,
   "metadata": {},
   "outputs": [
    {
     "data": {
      "text/plain": [
       "32036"
      ]
     },
     "execution_count": 67,
     "metadata": {},
     "output_type": "execute_result"
    }
   ],
   "source": [
    "len(nah)"
   ]
  },
  {
   "cell_type": "code",
   "execution_count": 68,
   "metadata": {},
   "outputs": [],
   "source": [
    "corpus = dic+axolotl+biblia"
   ]
  },
  {
   "cell_type": "code",
   "execution_count": 69,
   "metadata": {},
   "outputs": [
    {
     "data": {
      "text/plain": [
       "32393"
      ]
     },
     "execution_count": 69,
     "metadata": {},
     "output_type": "execute_result"
    }
   ],
   "source": [
    "len(corpus)"
   ]
  },
  {
   "cell_type": "code",
   "execution_count": 70,
   "metadata": {},
   "outputs": [],
   "source": [
    "corpus.sort(key = lambda s: len(s))"
   ]
  },
  {
   "cell_type": "code",
   "execution_count": 71,
   "metadata": {},
   "outputs": [],
   "source": [
    "corpus = corpus[1003:-200]"
   ]
  },
  {
   "cell_type": "code",
   "execution_count": 81,
   "metadata": {},
   "outputs": [
    {
     "data": {
      "text/plain": [
       "['como yo aquí te lo presento el maíz\\tcomo neh nican nimitzmactilia',\n",
       " 'con todas las fuerzas de mi corazón\\tica nochin fuerzas noyolotzin',\n",
       " 'cuántos días tiene el año común\\tquezqui tonalli quipia ce xihuitl',\n",
       " 'quién trajo estas novedades\\taquin oquihualhuicac in tenehualiztin',\n",
       " 'el arguyó con falsos argumentos\\tyehua iztladatiliz otetlazohuilli',\n",
       " 'en este asunto yo no hago nada\\tipan inin tequitl amotle nicchihua',\n",
       " 'ellos perdieron todo su dinero\\tyehuan oquipolohqueh nochi intomin',\n",
       " 'hay mucho aire y está lloviendo\\tonca miac ehecatl ihuan quiahtica',\n",
       " 'somos pobres y estamos enfermos\\ttiicnotlacah ihuan tococoxticateh',\n",
       " 'el partirá para aquella ciudad\\tyehua yaz inic inon hneyi altepetl']"
      ]
     },
     "execution_count": 81,
     "metadata": {},
     "output_type": "execute_result"
    }
   ],
   "source": [
    "corpus[3000:3010]"
   ]
  },
  {
   "cell_type": "code",
   "execution_count": 77,
   "metadata": {},
   "outputs": [],
   "source": [
    "with open('corpus.txt', 'w') as f:\n",
    "    for x in corpus:\n",
    "        f.write(x+'\\n')"
   ]
  },
  {
   "cell_type": "code",
   "execution_count": null,
   "metadata": {},
   "outputs": [],
   "source": []
  }
 ],
 "metadata": {
  "kernelspec": {
   "display_name": "Python 3",
   "language": "python",
   "name": "python3"
  },
  "language_info": {
   "codemirror_mode": {
    "name": "ipython",
    "version": 3
   },
   "file_extension": ".py",
   "mimetype": "text/x-python",
   "name": "python",
   "nbconvert_exporter": "python",
   "pygments_lexer": "ipython3",
   "version": "3.7.3"
  }
 },
 "nbformat": 4,
 "nbformat_minor": 2
}
